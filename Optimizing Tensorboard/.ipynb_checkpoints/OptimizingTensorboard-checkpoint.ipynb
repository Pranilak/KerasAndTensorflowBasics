{
 "cells": [
  {
   "cell_type": "markdown",
   "metadata": {},
   "source": [
    "# Optimizing tensorboard"
   ]
  },
  {
   "cell_type": "code",
   "execution_count": 1,
   "metadata": {},
   "outputs": [
    {
     "data": {
      "text/html": [
       "\n",
       "        <iframe\n",
       "            width=\"1000\"\n",
       "            height=\"500\"\n",
       "            src=\"https://www.youtube.com/embed/https://www.youtube.com/watch?list=PLQVvvaa0QuDfhTox0AjmQ6tvTgMBZBEXN&v=j-3vuBynnOE\"\n",
       "            frameborder=\"0\"\n",
       "            allowfullscreen\n",
       "        ></iframe>\n",
       "        "
      ],
      "text/plain": [
       "<IPython.lib.display.YouTubeVideo at 0x234ca9aeeb8>"
      ]
     },
     "execution_count": 1,
     "metadata": {},
     "output_type": "execute_result"
    }
   ],
   "source": [
    "from IPython.display import YouTubeVideo\n",
    "#Load video 5/11 from the below playlist URL\n",
    "YouTubeVideo('https://www.youtube.com/watch?list=PLQVvvaa0QuDfhTox0AjmQ6tvTgMBZBEXN&v=j-3vuBynnOE', width=1000, height=500)"
   ]
  },
  {
   "cell_type": "code",
   "execution_count": 2,
   "metadata": {},
   "outputs": [
    {
     "data": {
      "text/plain": [
       "'1.13.1'"
      ]
     },
     "execution_count": 2,
     "metadata": {},
     "output_type": "execute_result"
    }
   ],
   "source": [
    "import tensorflow as tf\n",
    "from tensorflow.keras.models import Sequential\n",
    "from tensorflow.keras.layers import Flatten, Dropout, Activation, Dense, Conv2D, MaxPooling2D\n",
    "import pickle\n",
    "import time\n",
    "from tensorflow.keras.callbacks import TensorBoard\n",
    "\n",
    "tf.__version__"
   ]
  },
  {
   "cell_type": "code",
   "execution_count": 3,
   "metadata": {},
   "outputs": [],
   "source": [
    "X = pickle.load(open('../Loading Own dataset/X.pickle', 'rb'))\n",
    "y = pickle.load(open('../Loading Own dataset/y.pickle', 'rb'))"
   ]
  },
  {
   "cell_type": "code",
   "execution_count": 4,
   "metadata": {},
   "outputs": [],
   "source": [
    "X = X/255.0"
   ]
  },
  {
   "cell_type": "markdown",
   "metadata": {},
   "source": [
    "### Previously"
   ]
  },
  {
   "cell_type": "code",
   "execution_count": 5,
   "metadata": {},
   "outputs": [],
   "source": [
    "NAME = \"Optimizing Tensorboard {}\".format(int(time.time()))"
   ]
  },
  {
   "cell_type": "code",
   "execution_count": 6,
   "metadata": {},
   "outputs": [],
   "source": [
    "tensorboard = TensorBoard(log_dir='logs/{}'.format(NAME))"
   ]
  },
  {
   "cell_type": "code",
   "execution_count": 7,
   "metadata": {},
   "outputs": [
    {
     "name": "stdout",
     "output_type": "stream",
     "text": [
      "WARNING:tensorflow:From C:\\Users\\Aneesh\\Anaconda3\\lib\\site-packages\\tensorflow\\python\\ops\\resource_variable_ops.py:435: colocate_with (from tensorflow.python.framework.ops) is deprecated and will be removed in a future version.\n",
      "Instructions for updating:\n",
      "Colocations handled automatically by placer.\n",
      "Train on 22451 samples, validate on 2495 samples\n",
      "WARNING:tensorflow:From C:\\Users\\Aneesh\\Anaconda3\\lib\\site-packages\\tensorflow\\python\\ops\\math_ops.py:3066: to_int32 (from tensorflow.python.ops.math_ops) is deprecated and will be removed in a future version.\n",
      "Instructions for updating:\n",
      "Use tf.cast instead.\n",
      "Epoch 1/10\n",
      "22451/22451 [==============================] - 12s 549us/sample - loss: 0.5944 - acc: 0.6796 - val_loss: 0.5349 - val_acc: 0.7359\n",
      "Epoch 2/10\n",
      "22451/22451 [==============================] - 8s 359us/sample - loss: 0.5225 - acc: 0.7455 - val_loss: 0.5152 - val_acc: 0.7387\n",
      "Epoch 3/10\n",
      "22451/22451 [==============================] - 9s 401us/sample - loss: 0.4900 - acc: 0.7666 - val_loss: 0.5018 - val_acc: 0.7531\n",
      "Epoch 4/10\n",
      "22451/22451 [==============================] - 8s 365us/sample - loss: 0.4680 - acc: 0.7814 - val_loss: 0.4975 - val_acc: 0.7587\n",
      "Epoch 5/10\n",
      "22451/22451 [==============================] - 8s 372us/sample - loss: 0.4387 - acc: 0.7984 - val_loss: 0.4994 - val_acc: 0.7623\n",
      "Epoch 6/10\n",
      "22451/22451 [==============================] - 10s 447us/sample - loss: 0.4105 - acc: 0.8123 - val_loss: 0.5011 - val_acc: 0.7651\n",
      "Epoch 7/10\n",
      "22451/22451 [==============================] - 7s 310us/sample - loss: 0.3871 - acc: 0.8281 - val_loss: 0.5151 - val_acc: 0.7679\n",
      "Epoch 8/10\n",
      "22451/22451 [==============================] - 7s 320us/sample - loss: 0.3606 - acc: 0.8416 - val_loss: 0.5268 - val_acc: 0.7647\n",
      "Epoch 9/10\n",
      "22451/22451 [==============================] - 8s 339us/sample - loss: 0.3367 - acc: 0.8546 - val_loss: 0.5412 - val_acc: 0.7551\n",
      "Epoch 10/10\n",
      "22451/22451 [==============================] - 8s 336us/sample - loss: 0.3154 - acc: 0.8644 - val_loss: 0.5552 - val_acc: 0.7583\n"
     ]
    },
    {
     "data": {
      "text/plain": [
       "<tensorflow.python.keras.callbacks.History at 0x234d31c73c8>"
      ]
     },
     "execution_count": 7,
     "metadata": {},
     "output_type": "execute_result"
    }
   ],
   "source": [
    "model = Sequential()\n",
    "\n",
    "model.add(Conv2D(64, (3,3), input_shape = X.shape[1:]))\n",
    "model.add(Activation('elu'))\n",
    "model.add(MaxPooling2D(pool_size=(2,2)))\n",
    "\n",
    "model.add(Conv2D(64, (3,3)))\n",
    "model.add(Activation('elu'))\n",
    "model.add(MaxPooling2D(pool_size=(2,2)))\n",
    "\n",
    "model.add(Flatten())\n",
    "model.add(Dense(1))\n",
    "model.add(Activation('sigmoid'))\n",
    "\n",
    "model.compile(loss = 'binary_crossentropy',\n",
    "             optimizer = 'adam',\n",
    "             metrics = ['accuracy'])\n",
    "\n",
    "model.fit(X, y, batch_size = 32, epochs = 10, validation_split = 0.1, callbacks = [tensorboard])"
   ]
  },
  {
   "cell_type": "markdown",
   "metadata": {},
   "source": [
    "### For Optimization"
   ]
  },
  {
   "cell_type": "code",
   "execution_count": 8,
   "metadata": {},
   "outputs": [],
   "source": [
    "dense_layers = [0, 1, 2]\n",
    "layer_sizes = [32, 64, 128]\n",
    "conv_layers = [1, 2, 3]"
   ]
  },
  {
   "cell_type": "code",
   "execution_count": null,
   "metadata": {},
   "outputs": [],
   "source": [
    "for dense_layer in dense_layers:\n",
    "    for layer_size in layer_sizes:\n",
    "        for conv_layer in conv_layers:\n",
    "            Name = \"{}-conv {}-nodes {}-dense {}-time\".format(conv_layer, layer_size, dense_layer, int(time.time()))\n",
    "            print(Name)\n",
    "            Optimized_model = Sequential()\n",
    "            \n",
    "            Optimized_model.add(Conv2D(layer_size, (3,3), input_shape(X[1:])))\n",
    "            Optimized_model.add(Activation('elu'))\n",
    "            Optimized_model.add(MaxPooling2D(pool_size= (2,2)))\n",
    "            \n",
    "            for size in range(layer_size-1):\n",
    "                Optimized_model.add(Conv2D(layer_size, (3,3)))\n",
    "                Optimized_model.add(Activation('elu'))\n",
    "                Optimized_model.add(MaxPooling2D(pool_size = (2,2)))\n",
    "                \n",
    "            Optimized_model.add(Flatten())\n",
    "            \n",
    "            for dense in range(dense_layer):\n",
    "                Optimized_model.add(Dense(layer_size))\n",
    "                Optimized_model.add(Activation('elu'))\n",
    "                \n",
    "            Optimized_model.add(Dense(1))\n",
    "            Optimized_model.add(Activation('sigmoid'))\n",
    "            \n",
    "Optimized_model.compile(loss='binary_crossentropy'\n",
    "                       optimizer = 'adam',\n",
    "                       metrics = ['accuracy'])\n",
    "\n",
    "Optimized_model.fit(X, y, batch_size = 32, epochs = 10, validation_split)"
   ]
  }
 ],
 "metadata": {
  "kernelspec": {
   "display_name": "Python 3",
   "language": "python",
   "name": "python3"
  },
  "language_info": {
   "codemirror_mode": {
    "name": "ipython",
    "version": 3
   },
   "file_extension": ".py",
   "mimetype": "text/x-python",
   "name": "python",
   "nbconvert_exporter": "python",
   "pygments_lexer": "ipython3",
   "version": "3.7.1"
  }
 },
 "nbformat": 4,
 "nbformat_minor": 2
}
